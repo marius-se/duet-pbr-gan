{
 "cells": [
  {
   "cell_type": "code",
   "execution_count": 1,
   "metadata": {},
   "outputs": [],
   "source": [
    "import numpy as np"
   ]
  },
  {
   "cell_type": "code",
   "execution_count": 2,
   "metadata": {},
   "outputs": [
    {
     "name": "stdout",
     "output_type": "stream",
     "text": [
      "warning [../data/lotpixel.zip]:  4294967296 extra bytes at beginning or within zipfile\n",
      "  (attempting to process anyway)\n",
      "file #1:  bad zipfile offset (local header sig):  4294967296\n",
      "  (attempting to re-compensate)\n",
      "error:  cannot create A+�IK ME+�E 1k LotPixel.com.rar\n",
      "        Illegal byte sequence\n",
      "error:  cannot create A+�IK V-�RJ-�NYA CEV-�Z 1k LotPixel.com.rar\n",
      "        Illegal byte sequence\n",
      "error:  cannot create AK+�AA-�A+� 1k LotPixel.com.rar\n",
      "        Illegal byte sequence\n",
      "error:  cannot create ALA CEV-�Z 1k LotPixel.com.rar\n",
      "        Illegal byte sequence\n",
      "error:  cannot create ALA+�ATI 1k LotPixel.com.rar\n",
      "        Illegal byte sequence\n",
      "error:  cannot create ANT-�K DARK 1k LotPixel.com.rar\n",
      "        Illegal byte sequence\n",
      "error:  cannot create ANT-�K L-�GHT 1k LotPixel.com.rar\n",
      "        Illegal byte sequence\n",
      "error:  cannot create ARTEM-�S 1k LotPixel.com.rar\n",
      "        Illegal byte sequence\n",
      "error:  cannot create ATLANT-�K +�AM 1k LotPixel.com.rar\n",
      "        Illegal byte sequence\n",
      "error:  cannot create ATLANT-�S 1k LotPixel.com.rar\n",
      "        Illegal byte sequence\n",
      "error:  cannot create AVANOS CEV-�Z 1k LotPixel.com.rar\n",
      "        Illegal byte sequence\n",
      "error:  cannot create BEYAZ HU+�  1k LotPixel.com.rar\n",
      "        Illegal byte sequence\n",
      "error:  cannot create BEYAZ ME+�E 1k LotPixel.com.rar\n",
      "        Illegal byte sequence\n",
      "error:  cannot create CEV-�Z 1k LotPixel.com.rar\n",
      "        Illegal byte sequence\n",
      "error:  cannot create DETRO-�T 1k LotPixel.com.rar\n",
      "        Illegal byte sequence\n",
      "^C\n"
     ]
    }
   ],
   "source": [
    "!unzip -q -o ../data/lotpixel.zip"
   ]
  },
  {
   "cell_type": "code",
   "execution_count": null,
   "metadata": {},
   "outputs": [],
   "source": []
  }
 ],
 "metadata": {
  "kernelspec": {
   "display_name": "Python 3.10.6 ('ml')",
   "language": "python",
   "name": "python3"
  },
  "language_info": {
   "codemirror_mode": {
    "name": "ipython",
    "version": 3
   },
   "file_extension": ".py",
   "mimetype": "text/x-python",
   "name": "python",
   "nbconvert_exporter": "python",
   "pygments_lexer": "ipython3",
   "version": "3.10.6"
  },
  "orig_nbformat": 4,
  "vscode": {
   "interpreter": {
    "hash": "38cf3a2657c4530458a1d5b90a9ba637718c74089d900d5938397f33b4197fc5"
   }
  }
 },
 "nbformat": 4,
 "nbformat_minor": 2
}
